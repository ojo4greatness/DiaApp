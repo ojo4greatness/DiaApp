{
 "cells": [
  {
   "cell_type": "code",
   "execution_count": 17,
   "id": "1e42cded",
   "metadata": {},
   "outputs": [
    {
     "name": "stdout",
     "output_type": "stream",
     "text": [
      "Overwriting dspa.py\n"
     ]
    }
   ],
   "source": [
    "%%writefile dspa.py\n",
    "\n",
    "import streamlit as st\n",
    "import pandas as pd\n",
    "import numpy as np\n",
    "import pickle\n",
    "from PIL import Image\n",
    "\n",
    "\n",
    "st.write(\"\"\" Diabetes Status Prediction App\"\"\")\n",
    "\n",
    "image = Image.open('flower.jpg')\n",
    "st.image(image, caption='Look and go down to input your values')\n",
    "\n",
    "model=pickle.load(open('diabetes_model.pkl', 'rb'))\n",
    "scaler = pickle.load(open('scaler2.pkl', 'rb'))\n",
    "\n",
    "\n",
    
    "\n",
    "def user_input_features():\n",
    "    GenHlth = st.selectbox('Health Rating',('Excellent', 'Good', 'Stable', 'Bad', 'Critical'))\n",
    "    if GenHlth == 'Excellent':\n",
    "        GenHlth = 5\n",
    "    if GenHlth == 'Good':\n",
    "        GenHlth = 4\n",
    "    if GenHlth == 'Stable':\n",
    "        GenHlth = 3\n",
    "    if GenHlth == 'Bad':\n",
    "        GenHlth = 2\n",
    "    else:\n",
    "        GenHlth = 1\n",
    "    \n",
    "    CholCheck = st.selectbox('Cholesterol Level',('High', 'Low'))\n",
    "    if CholCheck == 'High':\n",
    "        CholCheck = 1\n",
    "    else:\n",
    "        CholCheck = 0\n",
    "\n",
    "    HighBP = st.selectbox('Blood Pressure Level',('High', 'Low'))\n",
    "    if HighBP == 'High':\n",
    "        HighBP = 1\n",
    "    else:\n",
    "        HighBP = 0\n",
    "    \n",
    "    AnyHealthcare = st.selectbox('Do you have a Health Care Plan',('Yes', 'No'))\n",
    "    if AnyHealthcare == 'Yes':\n",
    "        AnyHealthcare = 1\n",
    "    else:\n",
    "        AnyHealthcare = 0\n",
    "\n",
    "    PhysActivity = st.selectbox('Do you engage in regular Physical Activity',('Yes', 'No'))\n",
    "    if PhysActivity == 'Yes':\n",
    "        PhysActivity = 1\n",
    "    else:\n",
    "        PhysActivity = 0\n",
    "    \n",
    "    Veggies = st.selectbox('Do you take vegetables regularly',('Yes', 'No'))\n",
    "    if Veggies == 'Yes':\n",
    "        Veggies = 1\n",
    "    else:\n",
    "        Veggies = 0\n",
    "    \n",
    "    data={\n",
    "        'GenHlth' : GenHlth,\n",
    "        'CholCheck':CholCheck,\n",
    "        'HighBP':HighBP,\n",
    "        'AnyHealthcare':AnyHealthcare,\n",
    "        'PhysActivity':PhysActivity,\n",
    "        'Veggies':Veggies }\n",
    "    \n",
    "    features = pd.DataFrame(data, index=[0])\n",
    "    return features\n",
    "\n",
    "input_df = user_input_features()\n",
    "input_df = scaler.transform(input_df)\n",
    "\n",
    "if st.button('PREDICT'):\n",
    "    y_out = model.predict(input_df)\n",
    "    if y_out[0]==1:   \n",
    "        st.write('You have a high risk of diabetes')\n",
    "    else:\n",
    "        st.write('You are not at risk of diabetes')"
   ]
  },
  {
   "cell_type": "code",
   "execution_count": null,
   "id": "07b743e5",
   "metadata": {},
   "outputs": [],
   "source": [
    "!streamlit run dspa.py"
   ]
  },
  {
   "cell_type": "code",
   "execution_count": null,
   "id": "89eeeb22",
   "metadata": {},
   "outputs": [],
   "source": []
  }
 ],
 "metadata": {
  "kernelspec": {
   "display_name": "Python 3 (ipykernel)",
   "language": "python",
   "name": "python3"
  },
  "language_info": {
   "codemirror_mode": {
    "name": "ipython",
    "version": 3
   },
   "file_extension": ".py",
   "mimetype": "text/x-python",
   "name": "python",
   "nbconvert_exporter": "python",
   "pygments_lexer": "ipython3",
   "version": "3.7.11"
  }
 },
 "nbformat": 4,
 "nbformat_minor": 5
}
