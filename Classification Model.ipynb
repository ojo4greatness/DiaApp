{
 "cells": [
  {
   "cell_type": "code",
   "execution_count": 47,
   "metadata": {
    "scrolled": true
   },
   "outputs": [],
   "source": [
    "#!pip install lightgbm"
   ]
  },
  {
   "cell_type": "code",
   "execution_count": 48,
   "metadata": {},
   "outputs": [],
   "source": [
    "#!pip install xgboost "
   ]
  },
  {
   "cell_type": "code",
   "execution_count": 49,
   "metadata": {},
   "outputs": [],
   "source": [
    "#!pip install -U imbalanced-learn --user"
   ]
  },
  {
   "cell_type": "code",
   "execution_count": 50,
   "metadata": {},
   "outputs": [],
   "source": [
    "import numpy as np\n",
    "import pandas as pd\n",
    "\n",
    "# Data Visualization\n",
    "import seaborn as sns\n",
    "import matplotlib.pyplot as plt\n",
    "\n",
    "# Machine Lerarning\n",
    "from sklearn.preprocessing import LabelEncoder, StandardScaler, OrdinalEncoder\n",
    "from sklearn.impute import SimpleImputer\n",
    "from sklearn.model_selection import train_test_split, GridSearchCV\n",
    "from sklearn.metrics import confusion_matrix, classification_report, accuracy_score, roc_auc_score, plot_roc_curve\n",
    "from sklearn import metrics\n",
    "from sklearn.linear_model import LogisticRegression\n",
    "from sklearn.tree import DecisionTreeClassifier\n",
    "from sklearn.ensemble import RandomForestClassifier\n",
    "from xgboost import XGBClassifier\n",
    "#from lightgbm import LGBMClassifier\n",
    "from imblearn.over_sampling import RandomOverSampler\n",
    "import pickle\n",
    "sns.set()\n",
    "\n",
    "# Maths\n",
    "import math\n",
    "\n",
    "# Set the options\n",
    "pd.set_option('display.max_rows', 20)\n",
    "pd.set_option('display.max_columns', 500)\n",
    "%matplotlib inline"
   ]
  },
  {
   "cell_type": "code",
   "execution_count": 51,
   "metadata": {},
   "outputs": [
    {
     "data": {
      "text/html": [
       "<div>\n",
       "<style scoped>\n",
       "    .dataframe tbody tr th:only-of-type {\n",
       "        vertical-align: middle;\n",
       "    }\n",
       "\n",
       "    .dataframe tbody tr th {\n",
       "        vertical-align: top;\n",
       "    }\n",
       "\n",
       "    .dataframe thead th {\n",
       "        text-align: right;\n",
       "    }\n",
       "</style>\n",
       "<table border=\"1\" class=\"dataframe\">\n",
       "  <thead>\n",
       "    <tr style=\"text-align: right;\">\n",
       "      <th></th>\n",
       "      <th>Diabetes_binary</th>\n",
       "      <th>HighBP</th>\n",
       "      <th>HighChol</th>\n",
       "      <th>CholCheck</th>\n",
       "      <th>BMI</th>\n",
       "      <th>Smoker</th>\n",
       "      <th>Stroke</th>\n",
       "      <th>HeartDiseaseorAttack</th>\n",
       "      <th>PhysActivity</th>\n",
       "      <th>Fruits</th>\n",
       "      <th>Veggies</th>\n",
       "      <th>HvyAlcoholConsump</th>\n",
       "      <th>AnyHealthcare</th>\n",
       "      <th>NoDocbcCost</th>\n",
       "      <th>GenHlth</th>\n",
       "      <th>MentHlth</th>\n",
       "      <th>PhysHlth</th>\n",
       "      <th>DiffWalk</th>\n",
       "      <th>Sex</th>\n",
       "      <th>Age</th>\n",
       "      <th>Education</th>\n",
       "      <th>Income</th>\n",
       "    </tr>\n",
       "  </thead>\n",
       "  <tbody>\n",
       "    <tr>\n",
       "      <th>0</th>\n",
       "      <td>0.0</td>\n",
       "      <td>1.0</td>\n",
       "      <td>1.0</td>\n",
       "      <td>1.0</td>\n",
       "      <td>40.0</td>\n",
       "      <td>1.0</td>\n",
       "      <td>0.0</td>\n",
       "      <td>0.0</td>\n",
       "      <td>0.0</td>\n",
       "      <td>0.0</td>\n",
       "      <td>1.0</td>\n",
       "      <td>0.0</td>\n",
       "      <td>1.0</td>\n",
       "      <td>0.0</td>\n",
       "      <td>5.0</td>\n",
       "      <td>18.0</td>\n",
       "      <td>15.0</td>\n",
       "      <td>1.0</td>\n",
       "      <td>0.0</td>\n",
       "      <td>9.0</td>\n",
       "      <td>4.0</td>\n",
       "      <td>3.0</td>\n",
       "    </tr>\n",
       "    <tr>\n",
       "      <th>1</th>\n",
       "      <td>0.0</td>\n",
       "      <td>0.0</td>\n",
       "      <td>0.0</td>\n",
       "      <td>0.0</td>\n",
       "      <td>25.0</td>\n",
       "      <td>1.0</td>\n",
       "      <td>0.0</td>\n",
       "      <td>0.0</td>\n",
       "      <td>1.0</td>\n",
       "      <td>0.0</td>\n",
       "      <td>0.0</td>\n",
       "      <td>0.0</td>\n",
       "      <td>0.0</td>\n",
       "      <td>1.0</td>\n",
       "      <td>3.0</td>\n",
       "      <td>0.0</td>\n",
       "      <td>0.0</td>\n",
       "      <td>0.0</td>\n",
       "      <td>0.0</td>\n",
       "      <td>7.0</td>\n",
       "      <td>6.0</td>\n",
       "      <td>1.0</td>\n",
       "    </tr>\n",
       "    <tr>\n",
       "      <th>2</th>\n",
       "      <td>0.0</td>\n",
       "      <td>1.0</td>\n",
       "      <td>1.0</td>\n",
       "      <td>1.0</td>\n",
       "      <td>28.0</td>\n",
       "      <td>0.0</td>\n",
       "      <td>0.0</td>\n",
       "      <td>0.0</td>\n",
       "      <td>0.0</td>\n",
       "      <td>1.0</td>\n",
       "      <td>0.0</td>\n",
       "      <td>0.0</td>\n",
       "      <td>1.0</td>\n",
       "      <td>1.0</td>\n",
       "      <td>5.0</td>\n",
       "      <td>30.0</td>\n",
       "      <td>30.0</td>\n",
       "      <td>1.0</td>\n",
       "      <td>0.0</td>\n",
       "      <td>9.0</td>\n",
       "      <td>4.0</td>\n",
       "      <td>8.0</td>\n",
       "    </tr>\n",
       "    <tr>\n",
       "      <th>3</th>\n",
       "      <td>0.0</td>\n",
       "      <td>1.0</td>\n",
       "      <td>0.0</td>\n",
       "      <td>1.0</td>\n",
       "      <td>27.0</td>\n",
       "      <td>0.0</td>\n",
       "      <td>0.0</td>\n",
       "      <td>0.0</td>\n",
       "      <td>1.0</td>\n",
       "      <td>1.0</td>\n",
       "      <td>1.0</td>\n",
       "      <td>0.0</td>\n",
       "      <td>1.0</td>\n",
       "      <td>0.0</td>\n",
       "      <td>2.0</td>\n",
       "      <td>0.0</td>\n",
       "      <td>0.0</td>\n",
       "      <td>0.0</td>\n",
       "      <td>0.0</td>\n",
       "      <td>11.0</td>\n",
       "      <td>3.0</td>\n",
       "      <td>6.0</td>\n",
       "    </tr>\n",
       "    <tr>\n",
       "      <th>4</th>\n",
       "      <td>0.0</td>\n",
       "      <td>1.0</td>\n",
       "      <td>1.0</td>\n",
       "      <td>1.0</td>\n",
       "      <td>24.0</td>\n",
       "      <td>0.0</td>\n",
       "      <td>0.0</td>\n",
       "      <td>0.0</td>\n",
       "      <td>1.0</td>\n",
       "      <td>1.0</td>\n",
       "      <td>1.0</td>\n",
       "      <td>0.0</td>\n",
       "      <td>1.0</td>\n",
       "      <td>0.0</td>\n",
       "      <td>2.0</td>\n",
       "      <td>3.0</td>\n",
       "      <td>0.0</td>\n",
       "      <td>0.0</td>\n",
       "      <td>0.0</td>\n",
       "      <td>11.0</td>\n",
       "      <td>5.0</td>\n",
       "      <td>4.0</td>\n",
       "    </tr>\n",
       "  </tbody>\n",
       "</table>\n",
       "</div>"
      ],
      "text/plain": [
       "   Diabetes_binary  HighBP  HighChol  CholCheck   BMI  Smoker  Stroke  \\\n",
       "0              0.0     1.0       1.0        1.0  40.0     1.0     0.0   \n",
       "1              0.0     0.0       0.0        0.0  25.0     1.0     0.0   \n",
       "2              0.0     1.0       1.0        1.0  28.0     0.0     0.0   \n",
       "3              0.0     1.0       0.0        1.0  27.0     0.0     0.0   \n",
       "4              0.0     1.0       1.0        1.0  24.0     0.0     0.0   \n",
       "\n",
       "   HeartDiseaseorAttack  PhysActivity  Fruits  Veggies  HvyAlcoholConsump  \\\n",
       "0                   0.0           0.0     0.0      1.0                0.0   \n",
       "1                   0.0           1.0     0.0      0.0                0.0   \n",
       "2                   0.0           0.0     1.0      0.0                0.0   \n",
       "3                   0.0           1.0     1.0      1.0                0.0   \n",
       "4                   0.0           1.0     1.0      1.0                0.0   \n",
       "\n",
       "   AnyHealthcare  NoDocbcCost  GenHlth  MentHlth  PhysHlth  DiffWalk  Sex  \\\n",
       "0            1.0          0.0      5.0      18.0      15.0       1.0  0.0   \n",
       "1            0.0          1.0      3.0       0.0       0.0       0.0  0.0   \n",
       "2            1.0          1.0      5.0      30.0      30.0       1.0  0.0   \n",
       "3            1.0          0.0      2.0       0.0       0.0       0.0  0.0   \n",
       "4            1.0          0.0      2.0       3.0       0.0       0.0  0.0   \n",
       "\n",
       "    Age  Education  Income  \n",
       "0   9.0        4.0     3.0  \n",
       "1   7.0        6.0     1.0  \n",
       "2   9.0        4.0     8.0  \n",
       "3  11.0        3.0     6.0  \n",
       "4  11.0        5.0     4.0  "
      ]
     },
     "execution_count": 51,
     "metadata": {},
     "output_type": "execute_result"
    }
   ],
   "source": [
    "df = pd.read_csv('diabetes_binary_health_indicators_BRFSS2015.csv')\n",
    "df.head()"
   ]
  },
  {
   "cell_type": "code",
   "execution_count": 52,
   "metadata": {},
   "outputs": [
    {
     "data": {
      "text/plain": [
       "array([0., 1.])"
      ]
     },
     "execution_count": 52,
     "metadata": {},
     "output_type": "execute_result"
    }
   ],
   "source": [
    "df['Diabetes_binary'].unique()"
   ]
  },
  {
   "cell_type": "code",
   "execution_count": 53,
   "metadata": {},
   "outputs": [
    {
     "data": {
      "text/plain": [
       "(253680, 22)"
      ]
     },
     "execution_count": 53,
     "metadata": {},
     "output_type": "execute_result"
    }
   ],
   "source": [
    "df.shape"
   ]
  },
  {
   "cell_type": "code",
   "execution_count": 54,
   "metadata": {},
   "outputs": [
    {
     "data": {
      "text/plain": [
       "Diabetes_binary\n",
       "0.0    218334\n",
       "1.0     35346\n",
       "Name: Diabetes_binary, dtype: int64"
      ]
     },
     "execution_count": 54,
     "metadata": {},
     "output_type": "execute_result"
    }
   ],
   "source": [
    "df.groupby('Diabetes_binary')['Diabetes_binary'].agg('count')"
   ]
  },
  {
   "cell_type": "code",
   "execution_count": 55,
   "metadata": {
    "scrolled": true
   },
   "outputs": [
    {
     "data": {
      "text/plain": [
       "Diabetes_binary         float64\n",
       "HighBP                  float64\n",
       "HighChol                float64\n",
       "CholCheck               float64\n",
       "BMI                     float64\n",
       "Smoker                  float64\n",
       "Stroke                  float64\n",
       "HeartDiseaseorAttack    float64\n",
       "PhysActivity            float64\n",
       "Fruits                  float64\n",
       "                         ...   \n",
       "AnyHealthcare           float64\n",
       "NoDocbcCost             float64\n",
       "GenHlth                 float64\n",
       "MentHlth                float64\n",
       "PhysHlth                float64\n",
       "DiffWalk                float64\n",
       "Sex                     float64\n",
       "Age                     float64\n",
       "Education               float64\n",
       "Income                  float64\n",
       "Length: 22, dtype: object"
      ]
     },
     "execution_count": 55,
     "metadata": {},
     "output_type": "execute_result"
    }
   ],
   "source": [
    "df.dtypes"
   ]
  },
  {
   "cell_type": "code",
   "execution_count": 56,
   "metadata": {},
   "outputs": [
    {
     "data": {
      "text/plain": [
       "array([ 9.,  7., 11., 10.,  8., 13.,  4.,  6.,  2., 12.,  5.,  1.,  3.])"
      ]
     },
     "execution_count": 56,
     "metadata": {},
     "output_type": "execute_result"
    }
   ],
   "source": [
    "df['Age'].unique()"
   ]
  },
  {
   "cell_type": "code",
   "execution_count": 57,
   "metadata": {},
   "outputs": [
    {
     "data": {
      "text/plain": [
       "0"
      ]
     },
     "execution_count": 57,
     "metadata": {},
     "output_type": "execute_result"
    }
   ],
   "source": [
    "x = 0.0\n",
    "y = int(x)\n",
    "y"
   ]
  },
  {
   "cell_type": "code",
   "execution_count": 58,
   "metadata": {},
   "outputs": [],
   "source": [
    "df['Diabetes_binary'] = df['Diabetes_binary'].apply(lambda x: int(x))"
   ]
  },
  {
   "cell_type": "code",
   "execution_count": 59,
   "metadata": {},
   "outputs": [
    {
     "data": {
      "text/plain": [
       "dtype('float64')"
      ]
     },
     "execution_count": 59,
     "metadata": {},
     "output_type": "execute_result"
    }
   ],
   "source": [
    "df['Sex'].dtype"
   ]
  },
  {
   "cell_type": "code",
   "execution_count": 60,
   "metadata": {},
   "outputs": [],
   "source": [
    "for i in df.columns:\n",
    "    if df[i].dtype =='float64':\n",
    "        df[i] = df[i].apply(lambda x: int(x))\n"
   ]
  },
  {
   "cell_type": "code",
   "execution_count": 61,
   "metadata": {},
   "outputs": [
    {
     "data": {
      "text/plain": [
       "Diabetes_binary         int64\n",
       "HighBP                  int64\n",
       "HighChol                int64\n",
       "CholCheck               int64\n",
       "BMI                     int64\n",
       "Smoker                  int64\n",
       "Stroke                  int64\n",
       "HeartDiseaseorAttack    int64\n",
       "PhysActivity            int64\n",
       "Fruits                  int64\n",
       "                        ...  \n",
       "AnyHealthcare           int64\n",
       "NoDocbcCost             int64\n",
       "GenHlth                 int64\n",
       "MentHlth                int64\n",
       "PhysHlth                int64\n",
       "DiffWalk                int64\n",
       "Sex                     int64\n",
       "Age                     int64\n",
       "Education               int64\n",
       "Income                  int64\n",
       "Length: 22, dtype: object"
      ]
     },
     "execution_count": 61,
     "metadata": {},
     "output_type": "execute_result"
    }
   ],
   "source": [
    "df.dtypes"
   ]
  },
  {
   "cell_type": "code",
   "execution_count": 62,
   "metadata": {},
   "outputs": [
    {
     "data": {
      "text/html": [
       "<div>\n",
       "<style scoped>\n",
       "    .dataframe tbody tr th:only-of-type {\n",
       "        vertical-align: middle;\n",
       "    }\n",
       "\n",
       "    .dataframe tbody tr th {\n",
       "        vertical-align: top;\n",
       "    }\n",
       "\n",
       "    .dataframe thead th {\n",
       "        text-align: right;\n",
       "    }\n",
       "</style>\n",
       "<table border=\"1\" class=\"dataframe\">\n",
       "  <thead>\n",
       "    <tr style=\"text-align: right;\">\n",
       "      <th></th>\n",
       "      <th>Diabetes_binary</th>\n",
       "      <th>HighBP</th>\n",
       "      <th>HighChol</th>\n",
       "      <th>CholCheck</th>\n",
       "      <th>BMI</th>\n",
       "      <th>Smoker</th>\n",
       "      <th>Stroke</th>\n",
       "      <th>HeartDiseaseorAttack</th>\n",
       "      <th>PhysActivity</th>\n",
       "      <th>Fruits</th>\n",
       "      <th>Veggies</th>\n",
       "      <th>HvyAlcoholConsump</th>\n",
       "      <th>AnyHealthcare</th>\n",
       "      <th>NoDocbcCost</th>\n",
       "      <th>GenHlth</th>\n",
       "      <th>MentHlth</th>\n",
       "      <th>PhysHlth</th>\n",
       "      <th>DiffWalk</th>\n",
       "      <th>Sex</th>\n",
       "      <th>Age</th>\n",
       "      <th>Education</th>\n",
       "      <th>Income</th>\n",
       "    </tr>\n",
       "  </thead>\n",
       "  <tbody>\n",
       "    <tr>\n",
       "      <th>Diabetes_binary</th>\n",
       "      <td>1.000000</td>\n",
       "      <td>0.263129</td>\n",
       "      <td>0.200276</td>\n",
       "      <td>0.064761</td>\n",
       "      <td>0.216843</td>\n",
       "      <td>0.060789</td>\n",
       "      <td>0.105816</td>\n",
       "      <td>0.177282</td>\n",
       "      <td>-0.118133</td>\n",
       "      <td>-0.040779</td>\n",
       "      <td>-0.056584</td>\n",
       "      <td>-0.057056</td>\n",
       "      <td>0.016255</td>\n",
       "      <td>0.031433</td>\n",
       "      <td>0.293569</td>\n",
       "      <td>0.069315</td>\n",
       "      <td>0.171337</td>\n",
       "      <td>0.218344</td>\n",
       "      <td>0.031430</td>\n",
       "      <td>0.177442</td>\n",
       "      <td>-0.124456</td>\n",
       "      <td>-0.163919</td>\n",
       "    </tr>\n",
       "    <tr>\n",
       "      <th>HighBP</th>\n",
       "      <td>0.263129</td>\n",
       "      <td>1.000000</td>\n",
       "      <td>0.298199</td>\n",
       "      <td>0.098508</td>\n",
       "      <td>0.213748</td>\n",
       "      <td>0.096991</td>\n",
       "      <td>0.129575</td>\n",
       "      <td>0.209361</td>\n",
       "      <td>-0.125267</td>\n",
       "      <td>-0.040555</td>\n",
       "      <td>-0.061266</td>\n",
       "      <td>-0.003972</td>\n",
       "      <td>0.038425</td>\n",
       "      <td>0.017358</td>\n",
       "      <td>0.300530</td>\n",
       "      <td>0.056456</td>\n",
       "      <td>0.161212</td>\n",
       "      <td>0.223618</td>\n",
       "      <td>0.052207</td>\n",
       "      <td>0.344452</td>\n",
       "      <td>-0.141358</td>\n",
       "      <td>-0.171235</td>\n",
       "    </tr>\n",
       "    <tr>\n",
       "      <th>HighChol</th>\n",
       "      <td>0.200276</td>\n",
       "      <td>0.298199</td>\n",
       "      <td>1.000000</td>\n",
       "      <td>0.085642</td>\n",
       "      <td>0.106722</td>\n",
       "      <td>0.091299</td>\n",
       "      <td>0.092620</td>\n",
       "      <td>0.180765</td>\n",
       "      <td>-0.078046</td>\n",
       "      <td>-0.040859</td>\n",
       "      <td>-0.039874</td>\n",
       "      <td>-0.011543</td>\n",
       "      <td>0.042230</td>\n",
       "      <td>0.013310</td>\n",
       "      <td>0.208426</td>\n",
       "      <td>0.062069</td>\n",
       "      <td>0.121751</td>\n",
       "      <td>0.144672</td>\n",
       "      <td>0.031205</td>\n",
       "      <td>0.272318</td>\n",
       "      <td>-0.070802</td>\n",
       "      <td>-0.085459</td>\n",
       "    </tr>\n",
       "    <tr>\n",
       "      <th>CholCheck</th>\n",
       "      <td>0.064761</td>\n",
       "      <td>0.098508</td>\n",
       "      <td>0.085642</td>\n",
       "      <td>1.000000</td>\n",
       "      <td>0.034495</td>\n",
       "      <td>-0.009929</td>\n",
       "      <td>0.024158</td>\n",
       "      <td>0.044206</td>\n",
       "      <td>0.004190</td>\n",
       "      <td>0.023849</td>\n",
       "      <td>0.006121</td>\n",
       "      <td>-0.023730</td>\n",
       "      <td>0.117626</td>\n",
       "      <td>-0.058255</td>\n",
       "      <td>0.046589</td>\n",
       "      <td>-0.008366</td>\n",
       "      <td>0.031775</td>\n",
       "      <td>0.040585</td>\n",
       "      <td>-0.022115</td>\n",
       "      <td>0.090321</td>\n",
       "      <td>0.001510</td>\n",
       "      <td>0.014259</td>\n",
       "    </tr>\n",
       "    <tr>\n",
       "      <th>BMI</th>\n",
       "      <td>0.216843</td>\n",
       "      <td>0.213748</td>\n",
       "      <td>0.106722</td>\n",
       "      <td>0.034495</td>\n",
       "      <td>1.000000</td>\n",
       "      <td>0.013804</td>\n",
       "      <td>0.020153</td>\n",
       "      <td>0.052904</td>\n",
       "      <td>-0.147294</td>\n",
       "      <td>-0.087518</td>\n",
       "      <td>-0.062275</td>\n",
       "      <td>-0.048736</td>\n",
       "      <td>-0.018471</td>\n",
       "      <td>0.058206</td>\n",
       "      <td>0.239185</td>\n",
       "      <td>0.085310</td>\n",
       "      <td>0.121141</td>\n",
       "      <td>0.197078</td>\n",
       "      <td>0.042950</td>\n",
       "      <td>-0.036618</td>\n",
       "      <td>-0.103932</td>\n",
       "      <td>-0.100069</td>\n",
       "    </tr>\n",
       "    <tr>\n",
       "      <th>Smoker</th>\n",
       "      <td>0.060789</td>\n",
       "      <td>0.096991</td>\n",
       "      <td>0.091299</td>\n",
       "      <td>-0.009929</td>\n",
       "      <td>0.013804</td>\n",
       "      <td>1.000000</td>\n",
       "      <td>0.061173</td>\n",
       "      <td>0.114441</td>\n",
       "      <td>-0.087401</td>\n",
       "      <td>-0.077666</td>\n",
       "      <td>-0.030678</td>\n",
       "      <td>0.101619</td>\n",
       "      <td>-0.023251</td>\n",
       "      <td>0.048946</td>\n",
       "      <td>0.163143</td>\n",
       "      <td>0.092196</td>\n",
       "      <td>0.116460</td>\n",
       "      <td>0.122463</td>\n",
       "      <td>0.093662</td>\n",
       "      <td>0.120641</td>\n",
       "      <td>-0.161955</td>\n",
       "      <td>-0.123937</td>\n",
       "    </tr>\n",
       "    <tr>\n",
       "      <th>Stroke</th>\n",
       "      <td>0.105816</td>\n",
       "      <td>0.129575</td>\n",
       "      <td>0.092620</td>\n",
       "      <td>0.024158</td>\n",
       "      <td>0.020153</td>\n",
       "      <td>0.061173</td>\n",
       "      <td>1.000000</td>\n",
       "      <td>0.203002</td>\n",
       "      <td>-0.069151</td>\n",
       "      <td>-0.013389</td>\n",
       "      <td>-0.041124</td>\n",
       "      <td>-0.016950</td>\n",
       "      <td>0.008776</td>\n",
       "      <td>0.034804</td>\n",
       "      <td>0.177942</td>\n",
       "      <td>0.070172</td>\n",
       "      <td>0.148944</td>\n",
       "      <td>0.176567</td>\n",
       "      <td>0.002978</td>\n",
       "      <td>0.126974</td>\n",
       "      <td>-0.076009</td>\n",
       "      <td>-0.128599</td>\n",
       "    </tr>\n",
       "    <tr>\n",
       "      <th>HeartDiseaseorAttack</th>\n",
       "      <td>0.177282</td>\n",
       "      <td>0.209361</td>\n",
       "      <td>0.180765</td>\n",
       "      <td>0.044206</td>\n",
       "      <td>0.052904</td>\n",
       "      <td>0.114441</td>\n",
       "      <td>0.203002</td>\n",
       "      <td>1.000000</td>\n",
       "      <td>-0.087299</td>\n",
       "      <td>-0.019790</td>\n",
       "      <td>-0.039167</td>\n",
       "      <td>-0.028991</td>\n",
       "      <td>0.018734</td>\n",
       "      <td>0.031000</td>\n",
       "      <td>0.258383</td>\n",
       "      <td>0.064621</td>\n",
       "      <td>0.181698</td>\n",
       "      <td>0.212709</td>\n",
       "      <td>0.086096</td>\n",
       "      <td>0.221618</td>\n",
       "      <td>-0.099600</td>\n",
       "      <td>-0.141011</td>\n",
       "    </tr>\n",
       "    <tr>\n",
       "      <th>PhysActivity</th>\n",
       "      <td>-0.118133</td>\n",
       "      <td>-0.125267</td>\n",
       "      <td>-0.078046</td>\n",
       "      <td>0.004190</td>\n",
       "      <td>-0.147294</td>\n",
       "      <td>-0.087401</td>\n",
       "      <td>-0.069151</td>\n",
       "      <td>-0.087299</td>\n",
       "      <td>1.000000</td>\n",
       "      <td>0.142756</td>\n",
       "      <td>0.153150</td>\n",
       "      <td>0.012392</td>\n",
       "      <td>0.035505</td>\n",
       "      <td>-0.061638</td>\n",
       "      <td>-0.266186</td>\n",
       "      <td>-0.125587</td>\n",
       "      <td>-0.219230</td>\n",
       "      <td>-0.253174</td>\n",
       "      <td>0.032482</td>\n",
       "      <td>-0.092511</td>\n",
       "      <td>0.199658</td>\n",
       "      <td>0.198539</td>\n",
       "    </tr>\n",
       "    <tr>\n",
       "      <th>Fruits</th>\n",
       "      <td>-0.040779</td>\n",
       "      <td>-0.040555</td>\n",
       "      <td>-0.040859</td>\n",
       "      <td>0.023849</td>\n",
       "      <td>-0.087518</td>\n",
       "      <td>-0.077666</td>\n",
       "      <td>-0.013389</td>\n",
       "      <td>-0.019790</td>\n",
       "      <td>0.142756</td>\n",
       "      <td>1.000000</td>\n",
       "      <td>0.254342</td>\n",
       "      <td>-0.035288</td>\n",
       "      <td>0.031544</td>\n",
       "      <td>-0.044243</td>\n",
       "      <td>-0.103854</td>\n",
       "      <td>-0.068217</td>\n",
       "      <td>-0.044633</td>\n",
       "      <td>-0.048352</td>\n",
       "      <td>-0.091175</td>\n",
       "      <td>0.064547</td>\n",
       "      <td>0.110187</td>\n",
       "      <td>0.079929</td>\n",
       "    </tr>\n",
       "    <tr>\n",
       "      <th>...</th>\n",
       "      <td>...</td>\n",
       "      <td>...</td>\n",
       "      <td>...</td>\n",
       "      <td>...</td>\n",
       "      <td>...</td>\n",
       "      <td>...</td>\n",
       "      <td>...</td>\n",
       "      <td>...</td>\n",
       "      <td>...</td>\n",
       "      <td>...</td>\n",
       "      <td>...</td>\n",
       "      <td>...</td>\n",
       "      <td>...</td>\n",
       "      <td>...</td>\n",
       "      <td>...</td>\n",
       "      <td>...</td>\n",
       "      <td>...</td>\n",
       "      <td>...</td>\n",
       "      <td>...</td>\n",
       "      <td>...</td>\n",
       "      <td>...</td>\n",
       "      <td>...</td>\n",
       "    </tr>\n",
       "    <tr>\n",
       "      <th>AnyHealthcare</th>\n",
       "      <td>0.016255</td>\n",
       "      <td>0.038425</td>\n",
       "      <td>0.042230</td>\n",
       "      <td>0.117626</td>\n",
       "      <td>-0.018471</td>\n",
       "      <td>-0.023251</td>\n",
       "      <td>0.008776</td>\n",
       "      <td>0.018734</td>\n",
       "      <td>0.035505</td>\n",
       "      <td>0.031544</td>\n",
       "      <td>0.029584</td>\n",
       "      <td>-0.010488</td>\n",
       "      <td>1.000000</td>\n",
       "      <td>-0.232532</td>\n",
       "      <td>-0.040817</td>\n",
       "      <td>-0.052707</td>\n",
       "      <td>-0.008276</td>\n",
       "      <td>0.007074</td>\n",
       "      <td>-0.019405</td>\n",
       "      <td>0.138046</td>\n",
       "      <td>0.122514</td>\n",
       "      <td>0.157999</td>\n",
       "    </tr>\n",
       "    <tr>\n",
       "      <th>NoDocbcCost</th>\n",
       "      <td>0.031433</td>\n",
       "      <td>0.017358</td>\n",
       "      <td>0.013310</td>\n",
       "      <td>-0.058255</td>\n",
       "      <td>0.058206</td>\n",
       "      <td>0.048946</td>\n",
       "      <td>0.034804</td>\n",
       "      <td>0.031000</td>\n",
       "      <td>-0.061638</td>\n",
       "      <td>-0.044243</td>\n",
       "      <td>-0.032232</td>\n",
       "      <td>0.004684</td>\n",
       "      <td>-0.232532</td>\n",
       "      <td>1.000000</td>\n",
       "      <td>0.166397</td>\n",
       "      <td>0.192107</td>\n",
       "      <td>0.148998</td>\n",
       "      <td>0.118447</td>\n",
       "      <td>-0.044931</td>\n",
       "      <td>-0.119777</td>\n",
       "      <td>-0.100701</td>\n",
       "      <td>-0.203182</td>\n",
       "    </tr>\n",
       "    <tr>\n",
       "      <th>GenHlth</th>\n",
       "      <td>0.293569</td>\n",
       "      <td>0.300530</td>\n",
       "      <td>0.208426</td>\n",
       "      <td>0.046589</td>\n",
       "      <td>0.239185</td>\n",
       "      <td>0.163143</td>\n",
       "      <td>0.177942</td>\n",
       "      <td>0.258383</td>\n",
       "      <td>-0.266186</td>\n",
       "      <td>-0.103854</td>\n",
       "      <td>-0.123066</td>\n",
       "      <td>-0.036724</td>\n",
       "      <td>-0.040817</td>\n",
       "      <td>0.166397</td>\n",
       "      <td>1.000000</td>\n",
       "      <td>0.301674</td>\n",
       "      <td>0.524364</td>\n",
       "      <td>0.456920</td>\n",
       "      <td>-0.006091</td>\n",
       "      <td>0.152450</td>\n",
       "      <td>-0.284912</td>\n",
       "      <td>-0.370014</td>\n",
       "    </tr>\n",
       "    <tr>\n",
       "      <th>MentHlth</th>\n",
       "      <td>0.069315</td>\n",
       "      <td>0.056456</td>\n",
       "      <td>0.062069</td>\n",
       "      <td>-0.008366</td>\n",
       "      <td>0.085310</td>\n",
       "      <td>0.092196</td>\n",
       "      <td>0.070172</td>\n",
       "      <td>0.064621</td>\n",
       "      <td>-0.125587</td>\n",
       "      <td>-0.068217</td>\n",
       "      <td>-0.058884</td>\n",
       "      <td>0.024716</td>\n",
       "      <td>-0.052707</td>\n",
       "      <td>0.192107</td>\n",
       "      <td>0.301674</td>\n",
       "      <td>1.000000</td>\n",
       "      <td>0.353619</td>\n",
       "      <td>0.233688</td>\n",
       "      <td>-0.080705</td>\n",
       "      <td>-0.092068</td>\n",
       "      <td>-0.101830</td>\n",
       "      <td>-0.209806</td>\n",
       "    </tr>\n",
       "    <tr>\n",
       "      <th>PhysHlth</th>\n",
       "      <td>0.171337</td>\n",
       "      <td>0.161212</td>\n",
       "      <td>0.121751</td>\n",
       "      <td>0.031775</td>\n",
       "      <td>0.121141</td>\n",
       "      <td>0.116460</td>\n",
       "      <td>0.148944</td>\n",
       "      <td>0.181698</td>\n",
       "      <td>-0.219230</td>\n",
       "      <td>-0.044633</td>\n",
       "      <td>-0.064290</td>\n",
       "      <td>-0.026415</td>\n",
       "      <td>-0.008276</td>\n",
       "      <td>0.148998</td>\n",
       "      <td>0.524364</td>\n",
       "      <td>0.353619</td>\n",
       "      <td>1.000000</td>\n",
       "      <td>0.478417</td>\n",
       "      <td>-0.043137</td>\n",
       "      <td>0.099130</td>\n",
       "      <td>-0.155093</td>\n",
       "      <td>-0.266799</td>\n",
       "    </tr>\n",
       "    <tr>\n",
       "      <th>DiffWalk</th>\n",
       "      <td>0.218344</td>\n",
       "      <td>0.223618</td>\n",
       "      <td>0.144672</td>\n",
       "      <td>0.040585</td>\n",
       "      <td>0.197078</td>\n",
       "      <td>0.122463</td>\n",
       "      <td>0.176567</td>\n",
       "      <td>0.212709</td>\n",
       "      <td>-0.253174</td>\n",
       "      <td>-0.048352</td>\n",
       "      <td>-0.080506</td>\n",
       "      <td>-0.037668</td>\n",
       "      <td>0.007074</td>\n",
       "      <td>0.118447</td>\n",
       "      <td>0.456920</td>\n",
       "      <td>0.233688</td>\n",
       "      <td>0.478417</td>\n",
       "      <td>1.000000</td>\n",
       "      <td>-0.070299</td>\n",
       "      <td>0.204450</td>\n",
       "      <td>-0.192642</td>\n",
       "      <td>-0.320124</td>\n",
       "    </tr>\n",
       "    <tr>\n",
       "      <th>Sex</th>\n",
       "      <td>0.031430</td>\n",
       "      <td>0.052207</td>\n",
       "      <td>0.031205</td>\n",
       "      <td>-0.022115</td>\n",
       "      <td>0.042950</td>\n",
       "      <td>0.093662</td>\n",
       "      <td>0.002978</td>\n",
       "      <td>0.086096</td>\n",
       "      <td>0.032482</td>\n",
       "      <td>-0.091175</td>\n",
       "      <td>-0.064765</td>\n",
       "      <td>0.005740</td>\n",
       "      <td>-0.019405</td>\n",
       "      <td>-0.044931</td>\n",
       "      <td>-0.006091</td>\n",
       "      <td>-0.080705</td>\n",
       "      <td>-0.043137</td>\n",
       "      <td>-0.070299</td>\n",
       "      <td>1.000000</td>\n",
       "      <td>-0.027340</td>\n",
       "      <td>0.019480</td>\n",
       "      <td>0.127141</td>\n",
       "    </tr>\n",
       "    <tr>\n",
       "      <th>Age</th>\n",
       "      <td>0.177442</td>\n",
       "      <td>0.344452</td>\n",
       "      <td>0.272318</td>\n",
       "      <td>0.090321</td>\n",
       "      <td>-0.036618</td>\n",
       "      <td>0.120641</td>\n",
       "      <td>0.126974</td>\n",
       "      <td>0.221618</td>\n",
       "      <td>-0.092511</td>\n",
       "      <td>0.064547</td>\n",
       "      <td>-0.009771</td>\n",
       "      <td>-0.034578</td>\n",
       "      <td>0.138046</td>\n",
       "      <td>-0.119777</td>\n",
       "      <td>0.152450</td>\n",
       "      <td>-0.092068</td>\n",
       "      <td>0.099130</td>\n",
       "      <td>0.204450</td>\n",
       "      <td>-0.027340</td>\n",
       "      <td>1.000000</td>\n",
       "      <td>-0.101901</td>\n",
       "      <td>-0.127775</td>\n",
       "    </tr>\n",
       "    <tr>\n",
       "      <th>Education</th>\n",
       "      <td>-0.124456</td>\n",
       "      <td>-0.141358</td>\n",
       "      <td>-0.070802</td>\n",
       "      <td>0.001510</td>\n",
       "      <td>-0.103932</td>\n",
       "      <td>-0.161955</td>\n",
       "      <td>-0.076009</td>\n",
       "      <td>-0.099600</td>\n",
       "      <td>0.199658</td>\n",
       "      <td>0.110187</td>\n",
       "      <td>0.154329</td>\n",
       "      <td>0.023997</td>\n",
       "      <td>0.122514</td>\n",
       "      <td>-0.100701</td>\n",
       "      <td>-0.284912</td>\n",
       "      <td>-0.101830</td>\n",
       "      <td>-0.155093</td>\n",
       "      <td>-0.192642</td>\n",
       "      <td>0.019480</td>\n",
       "      <td>-0.101901</td>\n",
       "      <td>1.000000</td>\n",
       "      <td>0.449106</td>\n",
       "    </tr>\n",
       "    <tr>\n",
       "      <th>Income</th>\n",
       "      <td>-0.163919</td>\n",
       "      <td>-0.171235</td>\n",
       "      <td>-0.085459</td>\n",
       "      <td>0.014259</td>\n",
       "      <td>-0.100069</td>\n",
       "      <td>-0.123937</td>\n",
       "      <td>-0.128599</td>\n",
       "      <td>-0.141011</td>\n",
       "      <td>0.198539</td>\n",
       "      <td>0.079929</td>\n",
       "      <td>0.151087</td>\n",
       "      <td>0.053619</td>\n",
       "      <td>0.157999</td>\n",
       "      <td>-0.203182</td>\n",
       "      <td>-0.370014</td>\n",
       "      <td>-0.209806</td>\n",
       "      <td>-0.266799</td>\n",
       "      <td>-0.320124</td>\n",
       "      <td>0.127141</td>\n",
       "      <td>-0.127775</td>\n",
       "      <td>0.449106</td>\n",
       "      <td>1.000000</td>\n",
       "    </tr>\n",
       "  </tbody>\n",
       "</table>\n",
       "<p>22 rows × 22 columns</p>\n",
       "</div>"
      ],
      "text/plain": [
       "                      Diabetes_binary    HighBP  HighChol  CholCheck  \\\n",
       "Diabetes_binary              1.000000  0.263129  0.200276   0.064761   \n",
       "HighBP                       0.263129  1.000000  0.298199   0.098508   \n",
       "HighChol                     0.200276  0.298199  1.000000   0.085642   \n",
       "CholCheck                    0.064761  0.098508  0.085642   1.000000   \n",
       "BMI                          0.216843  0.213748  0.106722   0.034495   \n",
       "Smoker                       0.060789  0.096991  0.091299  -0.009929   \n",
       "Stroke                       0.105816  0.129575  0.092620   0.024158   \n",
       "HeartDiseaseorAttack         0.177282  0.209361  0.180765   0.044206   \n",
       "PhysActivity                -0.118133 -0.125267 -0.078046   0.004190   \n",
       "Fruits                      -0.040779 -0.040555 -0.040859   0.023849   \n",
       "...                               ...       ...       ...        ...   \n",
       "AnyHealthcare                0.016255  0.038425  0.042230   0.117626   \n",
       "NoDocbcCost                  0.031433  0.017358  0.013310  -0.058255   \n",
       "GenHlth                      0.293569  0.300530  0.208426   0.046589   \n",
       "MentHlth                     0.069315  0.056456  0.062069  -0.008366   \n",
       "PhysHlth                     0.171337  0.161212  0.121751   0.031775   \n",
       "DiffWalk                     0.218344  0.223618  0.144672   0.040585   \n",
       "Sex                          0.031430  0.052207  0.031205  -0.022115   \n",
       "Age                          0.177442  0.344452  0.272318   0.090321   \n",
       "Education                   -0.124456 -0.141358 -0.070802   0.001510   \n",
       "Income                      -0.163919 -0.171235 -0.085459   0.014259   \n",
       "\n",
       "                           BMI    Smoker    Stroke  HeartDiseaseorAttack  \\\n",
       "Diabetes_binary       0.216843  0.060789  0.105816              0.177282   \n",
       "HighBP                0.213748  0.096991  0.129575              0.209361   \n",
       "HighChol              0.106722  0.091299  0.092620              0.180765   \n",
       "CholCheck             0.034495 -0.009929  0.024158              0.044206   \n",
       "BMI                   1.000000  0.013804  0.020153              0.052904   \n",
       "Smoker                0.013804  1.000000  0.061173              0.114441   \n",
       "Stroke                0.020153  0.061173  1.000000              0.203002   \n",
       "HeartDiseaseorAttack  0.052904  0.114441  0.203002              1.000000   \n",
       "PhysActivity         -0.147294 -0.087401 -0.069151             -0.087299   \n",
       "Fruits               -0.087518 -0.077666 -0.013389             -0.019790   \n",
       "...                        ...       ...       ...                   ...   \n",
       "AnyHealthcare        -0.018471 -0.023251  0.008776              0.018734   \n",
       "NoDocbcCost           0.058206  0.048946  0.034804              0.031000   \n",
       "GenHlth               0.239185  0.163143  0.177942              0.258383   \n",
       "MentHlth              0.085310  0.092196  0.070172              0.064621   \n",
       "PhysHlth              0.121141  0.116460  0.148944              0.181698   \n",
       "DiffWalk              0.197078  0.122463  0.176567              0.212709   \n",
       "Sex                   0.042950  0.093662  0.002978              0.086096   \n",
       "Age                  -0.036618  0.120641  0.126974              0.221618   \n",
       "Education            -0.103932 -0.161955 -0.076009             -0.099600   \n",
       "Income               -0.100069 -0.123937 -0.128599             -0.141011   \n",
       "\n",
       "                      PhysActivity    Fruits   Veggies  HvyAlcoholConsump  \\\n",
       "Diabetes_binary          -0.118133 -0.040779 -0.056584          -0.057056   \n",
       "HighBP                   -0.125267 -0.040555 -0.061266          -0.003972   \n",
       "HighChol                 -0.078046 -0.040859 -0.039874          -0.011543   \n",
       "CholCheck                 0.004190  0.023849  0.006121          -0.023730   \n",
       "BMI                      -0.147294 -0.087518 -0.062275          -0.048736   \n",
       "Smoker                   -0.087401 -0.077666 -0.030678           0.101619   \n",
       "Stroke                   -0.069151 -0.013389 -0.041124          -0.016950   \n",
       "HeartDiseaseorAttack     -0.087299 -0.019790 -0.039167          -0.028991   \n",
       "PhysActivity              1.000000  0.142756  0.153150           0.012392   \n",
       "Fruits                    0.142756  1.000000  0.254342          -0.035288   \n",
       "...                            ...       ...       ...                ...   \n",
       "AnyHealthcare             0.035505  0.031544  0.029584          -0.010488   \n",
       "NoDocbcCost              -0.061638 -0.044243 -0.032232           0.004684   \n",
       "GenHlth                  -0.266186 -0.103854 -0.123066          -0.036724   \n",
       "MentHlth                 -0.125587 -0.068217 -0.058884           0.024716   \n",
       "PhysHlth                 -0.219230 -0.044633 -0.064290          -0.026415   \n",
       "DiffWalk                 -0.253174 -0.048352 -0.080506          -0.037668   \n",
       "Sex                       0.032482 -0.091175 -0.064765           0.005740   \n",
       "Age                      -0.092511  0.064547 -0.009771          -0.034578   \n",
       "Education                 0.199658  0.110187  0.154329           0.023997   \n",
       "Income                    0.198539  0.079929  0.151087           0.053619   \n",
       "\n",
       "                      AnyHealthcare  NoDocbcCost   GenHlth  MentHlth  \\\n",
       "Diabetes_binary            0.016255     0.031433  0.293569  0.069315   \n",
       "HighBP                     0.038425     0.017358  0.300530  0.056456   \n",
       "HighChol                   0.042230     0.013310  0.208426  0.062069   \n",
       "CholCheck                  0.117626    -0.058255  0.046589 -0.008366   \n",
       "BMI                       -0.018471     0.058206  0.239185  0.085310   \n",
       "Smoker                    -0.023251     0.048946  0.163143  0.092196   \n",
       "Stroke                     0.008776     0.034804  0.177942  0.070172   \n",
       "HeartDiseaseorAttack       0.018734     0.031000  0.258383  0.064621   \n",
       "PhysActivity               0.035505    -0.061638 -0.266186 -0.125587   \n",
       "Fruits                     0.031544    -0.044243 -0.103854 -0.068217   \n",
       "...                             ...          ...       ...       ...   \n",
       "AnyHealthcare              1.000000    -0.232532 -0.040817 -0.052707   \n",
       "NoDocbcCost               -0.232532     1.000000  0.166397  0.192107   \n",
       "GenHlth                   -0.040817     0.166397  1.000000  0.301674   \n",
       "MentHlth                  -0.052707     0.192107  0.301674  1.000000   \n",
       "PhysHlth                  -0.008276     0.148998  0.524364  0.353619   \n",
       "DiffWalk                   0.007074     0.118447  0.456920  0.233688   \n",
       "Sex                       -0.019405    -0.044931 -0.006091 -0.080705   \n",
       "Age                        0.138046    -0.119777  0.152450 -0.092068   \n",
       "Education                  0.122514    -0.100701 -0.284912 -0.101830   \n",
       "Income                     0.157999    -0.203182 -0.370014 -0.209806   \n",
       "\n",
       "                      PhysHlth  DiffWalk       Sex       Age  Education  \\\n",
       "Diabetes_binary       0.171337  0.218344  0.031430  0.177442  -0.124456   \n",
       "HighBP                0.161212  0.223618  0.052207  0.344452  -0.141358   \n",
       "HighChol              0.121751  0.144672  0.031205  0.272318  -0.070802   \n",
       "CholCheck             0.031775  0.040585 -0.022115  0.090321   0.001510   \n",
       "BMI                   0.121141  0.197078  0.042950 -0.036618  -0.103932   \n",
       "Smoker                0.116460  0.122463  0.093662  0.120641  -0.161955   \n",
       "Stroke                0.148944  0.176567  0.002978  0.126974  -0.076009   \n",
       "HeartDiseaseorAttack  0.181698  0.212709  0.086096  0.221618  -0.099600   \n",
       "PhysActivity         -0.219230 -0.253174  0.032482 -0.092511   0.199658   \n",
       "Fruits               -0.044633 -0.048352 -0.091175  0.064547   0.110187   \n",
       "...                        ...       ...       ...       ...        ...   \n",
       "AnyHealthcare        -0.008276  0.007074 -0.019405  0.138046   0.122514   \n",
       "NoDocbcCost           0.148998  0.118447 -0.044931 -0.119777  -0.100701   \n",
       "GenHlth               0.524364  0.456920 -0.006091  0.152450  -0.284912   \n",
       "MentHlth              0.353619  0.233688 -0.080705 -0.092068  -0.101830   \n",
       "PhysHlth              1.000000  0.478417 -0.043137  0.099130  -0.155093   \n",
       "DiffWalk              0.478417  1.000000 -0.070299  0.204450  -0.192642   \n",
       "Sex                  -0.043137 -0.070299  1.000000 -0.027340   0.019480   \n",
       "Age                   0.099130  0.204450 -0.027340  1.000000  -0.101901   \n",
       "Education            -0.155093 -0.192642  0.019480 -0.101901   1.000000   \n",
       "Income               -0.266799 -0.320124  0.127141 -0.127775   0.449106   \n",
       "\n",
       "                        Income  \n",
       "Diabetes_binary      -0.163919  \n",
       "HighBP               -0.171235  \n",
       "HighChol             -0.085459  \n",
       "CholCheck             0.014259  \n",
       "BMI                  -0.100069  \n",
       "Smoker               -0.123937  \n",
       "Stroke               -0.128599  \n",
       "HeartDiseaseorAttack -0.141011  \n",
       "PhysActivity          0.198539  \n",
       "Fruits                0.079929  \n",
       "...                        ...  \n",
       "AnyHealthcare         0.157999  \n",
       "NoDocbcCost          -0.203182  \n",
       "GenHlth              -0.370014  \n",
       "MentHlth             -0.209806  \n",
       "PhysHlth             -0.266799  \n",
       "DiffWalk             -0.320124  \n",
       "Sex                   0.127141  \n",
       "Age                  -0.127775  \n",
       "Education             0.449106  \n",
       "Income                1.000000  \n",
       "\n",
       "[22 rows x 22 columns]"
      ]
     },
     "execution_count": 62,
     "metadata": {},
     "output_type": "execute_result"
    }
   ],
   "source": [
    "R = df.corr()\n",
    "R"
   ]
  },
  {
   "cell_type": "code",
   "execution_count": 63,
   "metadata": {},
   "outputs": [
    {
     "data": {
      "image/png": "[encoded data removed]",
      "text/plain": [
       "<Figure size 1440x1440 with 2 Axes>"
      ]
     },
     "metadata": {
      "needs_background": "light"
     },
     "output_type": "display_data"
    }
   ],
   "source": [
    "plt.figure(figsize=(20,20))\n",
    "sns.heatmap(R, annot=True, cmap='YlGn')\n",
    "plt.savefig('heatchart.png')"
   ]
  },
  {
   "cell_type": "markdown",
   "metadata": {},
   "source": [
    "## Feature Scaling"
   ]
  },
  {
   "cell_type": "code",
   "execution_count": 64,
   "metadata": {},
   "outputs": [],
   "source": [
    "scaler = StandardScaler()\n",
    "X = df.drop('Diabetes_binary', axis=1) # Assign all the features of X\n",
    "\n",
    "y = df['Diabetes_binary'] # Assign the target y variable\n"
   ]
  },
  {
   "cell_type": "code",
   "execution_count": 65,
   "metadata": {},
   "outputs": [
    {
     "data": {
      "text/plain": [
       "0         0\n",
       "1         0\n",
       "2         0\n",
       "3         0\n",
       "4         0\n",
       "5         0\n",
       "6         0\n",
       "7         0\n",
       "8         1\n",
       "9         0\n",
       "         ..\n",
       "253670    1\n",
       "253671    0\n",
       "253672    0\n",
       "253673    0\n",
       "253674    0\n",
       "253675    0\n",
       "253676    1\n",
       "253677    0\n",
       "253678    0\n",
       "253679    1\n",
       "Name: Diabetes_binary, Length: 253680, dtype: int64"
      ]
     },
     "execution_count": 65,
     "metadata": {},
     "output_type": "execute_result"
    }
   ],
   "source": [
    "y"
   ]
  },
  {
   "cell_type": "code",
   "execution_count": 66,
   "metadata": {},
   "outputs": [],
   "source": [
    "#from sklearn.feature_selection import mutual_info_classif\n",
    "\n",
    "#mutual_info_classif(X,y)\n",
    "\n",
    "#imp = pd.DataFrame(mutual_info_classif(X,y), index=X.columns)\n",
    "\n",
    "#imp\n",
    "#imp.columns = ['Importance']\n",
    "\n",
    "#imp.sort_values(by='Importance', ascending=False)"
   ]
  },
  {
   "cell_type": "code",
   "execution_count": 67,
   "metadata": {},
   "outputs": [],
   "source": [
    "#imp[imp['Importance']>=0.03].sort_values(by='Importance', ascending=False)"
   ]
  },
  {
   "cell_type": "code",
   "execution_count": 68,
   "metadata": {},
   "outputs": [
    {
     "data": {
      "text/plain": [
       "Index(['HighBP', 'HighChol', 'CholCheck', 'BMI', 'Smoker', 'Stroke',\n",
       "       'HeartDiseaseorAttack', 'PhysActivity', 'Fruits', 'Veggies',\n",
       "       'HvyAlcoholConsump', 'AnyHealthcare', 'NoDocbcCost', 'GenHlth',\n",
       "       'MentHlth', 'PhysHlth', 'DiffWalk', 'Sex', 'Age', 'Education',\n",
       "       'Income'],\n",
       "      dtype='object')"
      ]
     },
     "execution_count": 68,
     "metadata": {},
     "output_type": "execute_result"
    }
   ],
   "source": [
    "X.columns"
   ]
  },
  {
   "cell_type": "code",
   "execution_count": 69,
   "metadata": {},
   "outputs": [
    {
     "data": {
      "text/html": [
       "<div>\n",
       "<style scoped>\n",
       "    .dataframe tbody tr th:only-of-type {\n",
       "        vertical-align: middle;\n",
       "    }\n",
       "\n",
       "    .dataframe tbody tr th {\n",
       "        vertical-align: top;\n",
       "    }\n",
       "\n",
       "    .dataframe thead th {\n",
       "        text-align: right;\n",
       "    }\n",
       "</style>\n",
       "<table border=\"1\" class=\"dataframe\">\n",
       "  <thead>\n",
       "    <tr style=\"text-align: right;\">\n",
       "      <th></th>\n",
       "      <th>GenHlth</th>\n",
       "      <th>CholCheck</th>\n",
       "      <th>HighBP</th>\n",
       "      <th>AnyHealthcare</th>\n",
       "      <th>PhysActivity</th>\n",
       "      <th>Veggies</th>\n",
       "    </tr>\n",
       "  </thead>\n",
       "  <tbody>\n",
       "    <tr>\n",
       "      <th>0</th>\n",
       "      <td>5</td>\n",
       "      <td>1</td>\n",
       "      <td>1</td>\n",
       "      <td>1</td>\n",
       "      <td>0</td>\n",
       "      <td>1</td>\n",
       "    </tr>\n",
       "    <tr>\n",
       "      <th>1</th>\n",
       "      <td>3</td>\n",
       "      <td>0</td>\n",
       "      <td>0</td>\n",
       "      <td>0</td>\n",
       "      <td>1</td>\n",
       "      <td>0</td>\n",
       "    </tr>\n",
       "    <tr>\n",
       "      <th>2</th>\n",
       "      <td>5</td>\n",
       "      <td>1</td>\n",
       "      <td>1</td>\n",
       "      <td>1</td>\n",
       "      <td>0</td>\n",
       "      <td>0</td>\n",
       "    </tr>\n",
       "    <tr>\n",
       "      <th>3</th>\n",
       "      <td>2</td>\n",
       "      <td>1</td>\n",
       "      <td>1</td>\n",
       "      <td>1</td>\n",
       "      <td>1</td>\n",
       "      <td>1</td>\n",
       "    </tr>\n",
       "    <tr>\n",
       "      <th>4</th>\n",
       "      <td>2</td>\n",
       "      <td>1</td>\n",
       "      <td>1</td>\n",
       "      <td>1</td>\n",
       "      <td>1</td>\n",
       "      <td>1</td>\n",
       "    </tr>\n",
       "  </tbody>\n",
       "</table>\n",
       "</div>"
      ],
      "text/plain": [
       "   GenHlth  CholCheck  HighBP  AnyHealthcare  PhysActivity  Veggies\n",
       "0        5          1       1              1             0        1\n",
       "1        3          0       0              0             1        0\n",
       "2        5          1       1              1             0        0\n",
       "3        2          1       1              1             1        1\n",
       "4        2          1       1              1             1        1"
      ]
     },
     "execution_count": 69,
     "metadata": {},
     "output_type": "execute_result"
    }
   ],
   "source": [
    "X = X[['GenHlth','CholCheck', 'HighBP', 'AnyHealthcare', 'PhysActivity', 'Veggies']]\n",
    "X.head()"
   ]
  },
  {
   "cell_type": "code",
   "execution_count": 70,
   "metadata": {},
   "outputs": [],
   "source": [
    "X_train, X_test, y_train, y_test =  train_test_split(X, y, test_size=0.3, random_state=123)"
   ]
  },
  {
   "cell_type": "code",
   "execution_count": 71,
   "metadata": {},
   "outputs": [
    {
     "data": {
      "text/plain": [
       "StandardScaler()"
      ]
     },
     "execution_count": 71,
     "metadata": {},
     "output_type": "execute_result"
    }
   ],
   "source": [
    "scaler.fit(X_train)"
   ]
  },
  {
   "cell_type": "code",
   "execution_count": 72,
   "metadata": {},
   "outputs": [],
   "source": [
    "X_train = scaler.transform(X_train)\n",
    "X_test = scaler.transform(X_test)"
   ]
  },
  {
   "cell_type": "code",
   "execution_count": 73,
   "metadata": {},
   "outputs": [],
   "source": [
    "# Select the algorithm according to the imput provided\n",
    "def model_to_use(input_ml_algo):\n",
    "    if input_ml_algo == 'DT':\n",
    "        model = DecisionTreeClassifier()\n",
    "    elif input_ml_algo == 'RF':\n",
    "        model = RandomForestClassifier()\n",
    "    elif input_ml_algo == 'XGBC':\n",
    "        model = XGBClassifier()\n",
    "    elif input_ml_algo == 'LR':\n",
    "        model = LogisticRegression()\n",
    "    return model"
   ]
  },
  {
   "cell_type": "code",
   "execution_count": 74,
   "metadata": {},
   "outputs": [
    {
     "data": {
      "text/plain": [
       "LogisticRegression()"
      ]
     },
     "execution_count": 74,
     "metadata": {},
     "output_type": "execute_result"
    }
   ],
   "source": [
    "model = model_to_use('LR')\n",
    "model"
   ]
  },
  {
   "cell_type": "code",
   "execution_count": 75,
   "metadata": {},
   "outputs": [
    {
     "data": {
      "text/plain": [
       "LogisticRegression()"
      ]
     },
     "execution_count": 75,
     "metadata": {},
     "output_type": "execute_result"
    }
   ],
   "source": [
    "# Training the model:\n",
    "model.fit(X_train, y_train)\n",
    "model"
   ]
  },
  {
   "cell_type": "code",
   "execution_count": 76,
   "metadata": {},
   "outputs": [
    {
     "name": "stdout",
     "output_type": "stream",
     "text": [
      "y predicted:  [0 0 0 ... 0 0 0]\n",
      "y probabilty predicted:  [0.9484086397738819, 0.9568596758163888, 0.9130336264372113, 0.7978387283365834, 0.9720210738788169]\n"
     ]
    }
   ],
   "source": [
    "y_pred = model.predict(X_test)\n",
    "\n",
    "# Predict probability for test dataset\n",
    "y_pred_prob = model.predict_proba(X_test)\n",
    "y_pred_prob = [X[0] for X in y_pred_prob]\n",
    "print('y predicted: ', y_pred)\n",
    "print('y probabilty predicted: ', y_pred_prob[:5])"
   ]
  },
  {
   "cell_type": "markdown",
   "metadata": {},
   "source": [
    "## Model Evaluation\n",
    " Get the evaluation metrics to evaluate the performance of model on testing data."
   ]
  },
  {
   "cell_type": "code",
   "execution_count": null,
   "metadata": {},
   "outputs": [
    {
     "name": "stdout",
     "output_type": "stream",
     "text": [
      "\n",
      " Accuracy Score: \n",
      "  0.8578918322295805\n",
      "\n",
      " AUC Score: \n",
      "  0.2171835877830042\n"
     ]
    }
   ],
   "source": [
    "def compute_evaluation_metric(model, x_test, y_actual, y_predicted, y_predicted_prob):\n",
    "    print(\"\\n Accuracy Score: \\n \", accuracy_score(y_actual, y_predicted))\n",
    "    print(\"\\n AUC Score: \\n \", roc_auc_score(y_actual, y_predicted_prob))\n",
    "    print(\"\\n Confusion Matrix: \\n \", confusion_matrix(y_actual, y_predicted))\n",
    "    print(\"\\n Classification Report: \\n \", classification_report(y_actual, y_predicted))\n",
    "    \n",
    "    print(\"\\n ROC curve : \\n\")\n",
    "    sns.set_style(\"white\")\n",
    "    plot_roc_curve(model, x_test, y_actual)\n",
    "    \n",
    "    plt.show()\n",
    "\n",
    "compute_evaluation_metric(model, X_test, y_test, y_pred, y_pred_prob)"
   ]
  },
  {
   "cell_type": "markdown",
   "metadata": {},
   "source": [
    "## Imbalanced Data"
   ]
  },
  {
   "cell_type": "code",
   "execution_count": null,
   "metadata": {},
   "outputs": [],
   "source": [
    "y.value_counts()"
   ]
  },
  {
   "cell_type": "code",
   "execution_count": null,
   "metadata": {},
   "outputs": [],
   "source": [
    "ros = RandomOverSampler()\n",
    "X_ros, y_ros = ros.fit_resample(X, y)  # or ros.fit_sample(X, y)\n",
    "y_ros.value_counts()"
   ]
  },
  {
   "cell_type": "code",
   "execution_count": null,
   "metadata": {},
   "outputs": [],
   "source": [
    "X = X_ros\n",
    "y = y_ros"
   ]
  },
  {
   "cell_type": "code",
   "execution_count": null,
   "metadata": {},
   "outputs": [],
   "source": []
  },
  {
   "cell_type": "code",
   "execution_count": null,
   "metadata": {},
   "outputs": [],
   "source": [
    "X_train, X_test, y_train, y_test =  train_test_split(X, y, test_size=0.3, random_state=123)"
   ]
  },
  {
   "cell_type": "code",
   "execution_count": null,
   "metadata": {},
   "outputs": [],
   "source": [
    "scaler.fit(X_train)"
   ]
  },
  {
   "cell_type": "code",
   "execution_count": null,
   "metadata": {},
   "outputs": [],
   "source": [
    "X_train = scaler.transform(X_train)\n",
    "X_test = scaler.transform(X_test)"
   ]
  },
  {
   "cell_type": "code",
   "execution_count": null,
   "metadata": {},
   "outputs": [],
   "source": []
  },
  {
   "cell_type": "code",
   "execution_count": null,
   "metadata": {},
   "outputs": [],
   "source": [
    "def classification_model(X, y):\n",
    "    X = scaler.fit_transform(X)\n",
    "    \n",
    "    #Split the dataset into the training set and testing set\n",
    "    X_train, X_test, y_train, y_test = train_test_split(X_ros, y_ros, test_size=0.3, random_state=0)\n",
    "    \n",
    "    \n",
    "    #Training the MODEL:\n",
    "    model.fit(X_train, y_train)\n",
    "    \n",
    "    #Predict class for test dataset\n",
    "    y_pred = model.predict(X_test)\n",
    "    \n",
    "    #Predict probability for test dataset\n",
    "    y_pred_prob = model.predict_proba(X_test)\n",
    "    y_pred_prob = [x[1] for x in y_pred_prob]\n",
    "    \n",
    "    #Compute Evaluation metric\n",
    "    compute_evaluation_metric(model, X_test, y_test, y_pred, y_pred_prob)\n",
    "    \n",
    "    return model\n",
    "    "
   ]
  },
  {
   "cell_type": "code",
   "execution_count": null,
   "metadata": {},
   "outputs": [],
   "source": [
    "classification_model(X_ros, y_ros)"
   ]
  },
  {
   "cell_type": "markdown",
   "metadata": {},
   "source": [
    "##  Hyperparameter tuning"
   ]
  },
  {
   "cell_type": "code",
   "execution_count": null,
   "metadata": {},
   "outputs": [],
   "source": [
    "#Defining the parameters grid for Decision Tree\n",
    "param_grid_decision_tree = {'criterion':['gini', 'entropy'],\n",
    "                           'max_depth':[10,15,20,30,40,50],\n",
    "                           'min_samples_leaf':[1,2,5]}\n",
    "\n",
    "#Defining the parameters grid for Random Forest\n",
    "param_grid_random_forest = {'max_depth':[10,20,40],\n",
    "                           'n_estimator':[100,200,300],\n",
    "                           'min_samples_leaf':[1,2,5]}\n",
    "\n",
    "#Defining the parameters grid for XGBoost\n",
    "param_grid_xgb = {'min_child_weight':[1,5,10],\n",
    "                  'gamma':[0,1],\n",
    "                  'max_depth':[5,10],\n",
    "                 'learning_rate':[0.05, 0.1]}\n",
    "\n",
    "#Defining the parameters grid for LGBM\n",
    "#param_grid_lgbm = {'n_estimator':[100,200],\n",
    "                   #'num_leaves':[256, 128],\n",
    "                   #'max_depth':[5,8,10],\n",
    "                 #'learning_rate':[0.05, 0.1]}\n"
   ]
  },
  {
   "cell_type": "code",
   "execution_count": null,
   "metadata": {},
   "outputs": [],
   "source": [
    "def param(input_ml_algo):\n",
    "    if input_ml_algo == 'DT':\n",
    "        model = DecisionTreeClassifier()\n",
    "        param_grid = param_grid_decision_tree\n",
    "    elif input_ml_algo == 'RF':\n",
    "        model = RandomForestClassifier()\n",
    "        param_grid = param_grid_random_forest\n",
    "    elif input_ml_algo == 'XGBC':\n",
    "        model = XGBClassifier()\n",
    "        param_grid = param_grid_xgb\n",
    "    elif input_ml_algo == 'LGBMC':\n",
    "        model = LGBMClassifier()\n",
    "        param_grid = param_grid_lgbm\n",
    "    return param_grid\n",
    "# Note that there is no Logistic Regression in the list of models. This is because optimizing Logistic Regression is entirely different way\n"
   ]
  },
  {
   "cell_type": "code",
   "execution_count": null,
   "metadata": {},
   "outputs": [],
   "source": [
    "from sklearn.model_selection import GridSearchCV\n",
    "import warnings\n",
    "warnings.filterwarnings('ignore')"
   ]
  },
  {
   "cell_type": "code",
   "execution_count": null,
   "metadata": {},
   "outputs": [],
   "source": [
    "model.get_params().keys()"
   ]
  },
  {
   "cell_type": "code",
   "execution_count": null,
   "metadata": {},
   "outputs": [],
   "source": [
    "grid = GridSearchCV(model, param_grid_decision_tree, refit = True, verbose=3, n_jobs=-1)\n",
    "\n",
    "grid.fit(X_train, y_train)"
   ]
  },
  {
   "cell_type": "code",
   "execution_count": null,
   "metadata": {},
   "outputs": [],
   "source": [
    "grid.best_params_"
   ]
  },
  {
   "cell_type": "code",
   "execution_count": null,
   "metadata": {},
   "outputs": [],
   "source": [
    "y_pred = grid.predict(X_test)\n",
    "\n",
    "#Predict probability for test dataset\n",
    "\n",
    "y_pred_prob = grid.predict_proba(X_test)\n",
    "y_pred_prob = [x[1] for x in y_pred_prob]\n",
    "print(\"Y predicted : \", y_pred)\n",
    "print(\"Y probability predicted : \", y_pred_prob[:5])"
   ]
  },
  {
   "cell_type": "code",
   "execution_count": null,
   "metadata": {},
   "outputs": [],
   "source": [
    "compute_evaluation_metric(grid, X_test, y_test, y_pred, y_pred_prob)"
   ]
  },
  {
   "cell_type": "markdown",
   "metadata": {},
   "source": [
    "### Saving your model"
   ]
  },
  {
   "cell_type": "code",
   "execution_count": null,
   "metadata": {},
   "outputs": [],
   "source": [
    "import pickle\n"
   ]
  },
  {
   "cell_type": "code",
   "execution_count": null,
   "metadata": {},
   "outputs": [],
   "source": [
    "# Save the model to disk\n",
    "\n",
    "pickle.dump(model, open('diabetes_model.pkl', 'wb'))\n",
    "\n",
    "pickle.dump(scaler, open('scaler2.pkl', 'wb'))"
   ]
  },
  {
   "cell_type": "markdown",
   "metadata": {},
   "source": [
    "## Creating Prediction Pipeline"
   ]
  },
  {
   "cell_type": "code",
   "execution_count": null,
   "metadata": {},
   "outputs": [],
   "source": []
  }
 ],
 "metadata": {
  "kernelspec": {
   "display_name": "Python 3",
   "language": "python",
   "name": "python3"
  },
  "language_info": {
   "codemirror_mode": {
    "name": "ipython",
    "version": 3
   },
   "file_extension": ".py",
   "mimetype": "text/x-python",
   "name": "python",
   "nbconvert_exporter": "python",
   "pygments_lexer": "ipython3",
   "version": "3.7.3"
  }
 },
 "nbformat": 4,
 "nbformat_minor": 2
}
